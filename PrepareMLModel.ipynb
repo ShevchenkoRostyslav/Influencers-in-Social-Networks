{
 "cells": [
  {
   "cell_type": "markdown",
   "metadata": {},
   "source": [
    "# Importing packages"
   ]
  },
  {
   "cell_type": "code",
   "execution_count": 1,
   "metadata": {},
   "outputs": [],
   "source": [
    "# Data manipulation and math computation\n",
    "import pandas as pd\n",
    "import numpy as np\n",
    "from sklearn.model_selection import train_test_split\n",
    "\n",
    "# Data visualisation \n",
    "import matplotlib.pyplot as plt\n",
    "import seaborn as sns\n",
    "\n",
    "# ML algorithms for the classification\n",
    "from xgboost import XGBClassifier\n",
    "from sklearn.ensemble import RandomForestClassifier\n",
    "\n",
    "# Metrics used for measuring the accuracy and performance of the models\n",
    "from sklearn.metrics import accuracy_score\n",
    "from sklearn.metrics import auc, roc_curve, roc_auc_score\n",
    "from sklearn.model_selection import cross_val_score\n",
    "from sklearn.model_selection import RepeatedStratifiedKFold\n",
    "from sklearn.model_selection import learning_curve\n",
    "\n",
    "# Save models\n",
    "import pickle"
   ]
  },
  {
   "cell_type": "markdown",
   "metadata": {},
   "source": [
    "# Load the training data"
   ]
  },
  {
   "cell_type": "code",
   "execution_count": 2,
   "metadata": {},
   "outputs": [],
   "source": [
    "#load the data\n",
    "df = pd.read_csv(\"lib/data/PartitionedNetwork.csv\",sep=\",\")\n",
    "df_x = df.drop(columns=['Choice'])\n",
    "df_y = df.Choice"
   ]
  },
  {
   "cell_type": "markdown",
   "metadata": {},
   "source": [
    "# Derived features"
   ]
  },
  {
   "cell_type": "code",
   "execution_count": 21,
   "metadata": {},
   "outputs": [],
   "source": [
    "# Create a bunch of \"A-B\" and 'AmA' features\n",
    "def add_derived_features(df):\n",
    "    minus_features = ['follower_count','listed_count']\n",
    "    for col in minus_features:\n",
    "        df['AmB_' + col] = df['A_'+col] - df['B_'+col]\n",
    "    for cand in ['A','B']:\n",
    "        df[cand + '_follower_m_following_count'] = df[cand + '_follower_count'] - df[cand + '_following_count']\n",
    "    \n",
    "    return df\n",
    "\n",
    "df_x = add_derived_features(df_x)"
   ]
  },
  {
   "cell_type": "markdown",
   "metadata": {},
   "source": [
    "# Model evaluation"
   ]
  },
  {
   "cell_type": "code",
   "execution_count": 4,
   "metadata": {},
   "outputs": [],
   "source": [
    "# Function to evaluate the results using Accuracy and ROC AUC\n",
    "def evaluate(model,x,y):\n",
    "    #predict the output\n",
    "    predictions = model.predict(x)\n",
    "    predicting_prob = model.predict_proba(x)[:,1]\n",
    "    \n",
    "    #Accuracy score\n",
    "    accuracy = accuracy_score(y_pred=predictions,y_true=y)\n",
    "    print(\"Accuracy: {:.3f}% \".format(accuracy*100))\n",
    "    # ROC AUC score\n",
    "    roc_auc = roc_auc_score(y_score=predicting_prob,y_true=y)\n",
    "    print(\"ROC AUC: {:.3f}% \\n\".format(roc_auc*100))  \n",
    "\n",
    "# Run cross-validation\n",
    "def run_cross_validation(model,name,x_tot,y_tot,cv):\n",
    "    print('Starting Cross-validation')\n",
    "    \n",
    "    #Score using accuracy\n",
    "    scoresAccuracy=cross_val_score(model,x_tot,y_tot,cv=cv,verbose=1,n_jobs=-1)\n",
    "    print(\"CV with accuracy: %0.3f +/- %0.3f\" % (scoresAccuracy.mean(), scoresAccuracy.std()))\n",
    "    \n",
    "    #Score with AUC\n",
    "    scoresROCAUC=cross_val_score(model,x_tot,y_tot,cv=cv,scoring='roc_auc',verbose=1,n_jobs=-1)\n",
    "    print(\"CV with ROC AUC: %0.3f +/- %0.3f\" % (scoresROCAUC.mean(), scoresROCAUC.std()))\n",
    "    \n",
    "    #Plot learning curve \n",
    "    plot_learning_curve(model,name,x_tot,y_tot,cv=cv,n_jobs=-1)\n",
    "    plt.show()\n",
    "    \n",
    "def advanced_evaluate_model(model,name, x_train, y_train, x_test, y_test, cv):\n",
    "    # Train the algorithm\n",
    "    history = model.fit(x_train,y_train)\n",
    "    #predict the output\n",
    "    predictions = model.predict(x_test)\n",
    "    predicting_prob = model.predict_proba(x_test)[:,1]\n",
    "    \n",
    "    print(model)\n",
    "    # Evaluate the results\n",
    "    print('**********************TRAIN Sample***********************')\n",
    "    evaluate(model,x_train,y_train)     \n",
    "    print('***********************TEST Sample***********************')\n",
    "    evaluate(model,x_test,y_test) \n",
    "    \n",
    "    # Merge test and train samples\n",
    "    x_tot = pd.concat([x_train,x_test],axis=0)\n",
    "    y_tot = pd.concat([y_train,y_test],axis=0)\n",
    "\n",
    "    # If run cross-validation:\n",
    "    if cv:\n",
    "        #Cross-validation\n",
    "\n",
    "        # Splitting strategy\n",
    "        kfold = RepeatedStratifiedKFold(n_splits=10, n_repeats=4, random_state=1)\n",
    "    \n",
    "        run_cross_validation(model,name,x_tot,y_tot,cv=kfold)\n",
    "    \n",
    "    # ROC Curve. \n",
    "    fpr,tpr,thresh = roc_curve(y_test,predicting_prob)\n",
    "    plt.figure(figsize=(7,7))\n",
    "    plt.plot(fpr,tpr,label = (\"Area under the curve {:0.3f}\".format(auc(fpr,tpr))),color = \"r\")\n",
    "    plt.plot([1,0],[1,0],linestyle = \"dashed\",color =\"k\")\n",
    "    plt.legend(loc = \"best\")\n",
    "    plt.title(name + \" ROC - Curve & Area Under Curve\",fontsize=18)\n",
    "    plt.xlabel('False positive rate')\n",
    "    plt.ylabel('True positive rate')\n",
    "    plt.show()\n",
    "    \n",
    "    # plot learning history:\n",
    "    if name == 'DNN': \n",
    "        plot_DNN_training_history(history)\n",
    "        plt.show()\n",
    "    \n",
    "    print('\\n\\n')\n",
    "    \n",
    "    model.fit(x_tot,y_tot)\n",
    "    \n",
    "    return model\n",
    "\n",
    "# function to evaluate the feature importance\n",
    "def feature_importance(df_ini,model,model_type,model_name):\n",
    "    # transform the input data, accessing is different for different algorithms, hard coded now. \n",
    "    # Should be imporved later\n",
    "    if model_type == 'importance':\n",
    "        df = pd.DataFrame(model.feature_importances_,df_ini.columns).reset_index()\n",
    "    else:\n",
    "        df = pd.DataFrame(model.coef_.ravel(),df_ini.columns).reset_index()\n",
    "    df.rename(columns={'index':'features',0:'coefficients'},inplace=True)\n",
    "    # sort the values\n",
    "    df.sort_values(by='coefficients',ascending = False,inplace=True)\n",
    "        \n",
    "    #plot\n",
    "    sns.barplot(x = df['coefficients'] ,y = df['features'])    \n",
    "    plt.title(\"Feature Importance \" + model_name,fontsize=11,fontweight=\"bold\")\n",
    "    \n",
    "def fast_feature_importance(df,models):\n",
    "    df_x = df\n",
    "    if 'Choice' in df.columns:\n",
    "        df_x = df.drop(columns=['Choice'])\n",
    "    # Analyse feature importance\n",
    "    plt.figure(figsize=(15,15))\n",
    "    plt.subplots_adjust(wspace=0.5)\n",
    "    for i, model in enumerate(models,start=1):\n",
    "        plt.subplot(2,2,i)\n",
    "        feature_importance(df_x,model.model,model.model_type,model.name)\n",
    "        \n",
    "# function from \n",
    "# https://scikit-learn.org/stable/auto_examples/model_selection/plot_learning_curve.html#sphx-glr-auto-examples-model-selection-plot-learning-curve-py\n",
    "def plot_learning_curve(estimator, title, X, y, ylim=None, cv=None,\n",
    "                        n_jobs=None, train_sizes=np.linspace(.1, 1.0, 5)):\n",
    "    plt.figure()\n",
    "    plt.title(title)\n",
    "    if ylim is not None:\n",
    "        plt.ylim(*ylim)\n",
    "    plt.xlabel(\"Training examples\")\n",
    "    plt.ylabel(\"Score\")\n",
    "    train_sizes, train_scores, test_scores = learning_curve(\n",
    "        estimator, X, y, cv=cv, n_jobs=n_jobs, train_sizes=train_sizes)\n",
    "    train_scores_mean = np.mean(train_scores, axis=1)\n",
    "    train_scores_std = np.std(train_scores, axis=1)\n",
    "    test_scores_mean = np.mean(test_scores, axis=1)\n",
    "    test_scores_std = np.std(test_scores, axis=1)\n",
    "    plt.grid()\n",
    "\n",
    "    plt.fill_between(train_sizes, train_scores_mean - train_scores_std,\n",
    "                     train_scores_mean + train_scores_std, alpha=0.1,\n",
    "                     color=\"r\")\n",
    "    plt.fill_between(train_sizes, test_scores_mean - test_scores_std,\n",
    "                     test_scores_mean + test_scores_std, alpha=0.1, color=\"g\")\n",
    "    plt.plot(train_sizes, train_scores_mean, 'o-', color=\"r\",\n",
    "             label=\"Training score\")\n",
    "    plt.plot(train_sizes, test_scores_mean, 'o-', color=\"g\",\n",
    "             label=\"Cross-validation score\")\n",
    "\n",
    "    plt.legend(loc=\"best\")\n",
    "    return plt"
   ]
  },
  {
   "cell_type": "markdown",
   "metadata": {},
   "source": [
    "# Train models"
   ]
  },
  {
   "cell_type": "code",
   "execution_count": 5,
   "metadata": {},
   "outputs": [],
   "source": [
    "class MLmodel:\n",
    "    def __init__(self,model,name,model_type = 'importance'):\n",
    "        self.name = name\n",
    "        self.model = model\n",
    "        self.model_type = model_type"
   ]
  },
  {
   "cell_type": "code",
   "execution_count": 6,
   "metadata": {},
   "outputs": [],
   "source": [
    "MLModels = [\n",
    "    MLmodel(XGBClassifier(random_state=1,n_estimators=1000,learning_rate=0.01,max_depth=3)\n",
    "            ,'XGBoost','importance'),\n",
    "    MLmodel(RandomForestClassifier(n_jobs=16,n_estimators=450, random_state=1)\n",
    "            ,'RF','importance')\n",
    "]"
   ]
  },
  {
   "cell_type": "code",
   "execution_count": 7,
   "metadata": {},
   "outputs": [],
   "source": [
    "# Columns to bo used for predictions\n",
    "cols = ['AmB_listed_count','AmB_follower_count','B_network_feature_1',\n",
    "        'A_follower_m_following_count','A_network_feature_1',\n",
    "        'B_listed_count','A_following_count', 'B_following_count',\n",
    "       ]"
   ]
  },
  {
   "cell_type": "code",
   "execution_count": 16,
   "metadata": {},
   "outputs": [
    {
     "name": "stdout",
     "output_type": "stream",
     "text": [
      "XGBClassifier(base_score=0.5, booster='gbtree', colsample_bylevel=1,\n",
      "       colsample_bytree=1, gamma=0, learning_rate=0.01, max_delta_step=0,\n",
      "       max_depth=3, min_child_weight=1, missing=None, n_estimators=1000,\n",
      "       n_jobs=1, nthread=None, objective='binary:logistic', random_state=1,\n",
      "       reg_alpha=0, reg_lambda=1, scale_pos_weight=1, seed=None,\n",
      "       silent=True, subsample=1)\n",
      "**********************TRAIN Sample***********************\n",
      "Accuracy: 80.729% \n",
      "ROC AUC: 89.903% \n",
      "\n",
      "***********************TEST Sample***********************\n",
      "Accuracy: 77.350% \n",
      "ROC AUC: 87.230% \n",
      "\n"
     ]
    },
    {
     "data": {
      "image/png": "[encoded data removed]",
      "text/plain": [
       "<Figure size 504x504 with 1 Axes>"
      ]
     },
     "metadata": {
      "needs_background": "light"
     },
     "output_type": "display_data"
    },
    {
     "name": "stdout",
     "output_type": "stream",
     "text": [
      "\n",
      "\n",
      "\n",
      "RandomForestClassifier(bootstrap=True, class_weight=None, criterion='gini',\n",
      "            max_depth=None, max_features='auto', max_leaf_nodes=None,\n",
      "            min_impurity_decrease=0.0, min_impurity_split=None,\n",
      "            min_samples_leaf=1, min_samples_split=2,\n",
      "            min_weight_fraction_leaf=0.0, n_estimators=450, n_jobs=16,\n",
      "            oob_score=False, random_state=1, verbose=0, warm_start=False)\n",
      "**********************TRAIN Sample***********************\n",
      "Accuracy: 99.318% \n",
      "ROC AUC: 99.991% \n",
      "\n",
      "***********************TEST Sample***********************\n",
      "Accuracy: 76.128% \n",
      "ROC AUC: 85.694% \n",
      "\n"
     ]
    },
    {
     "data": {
      "image/png": "[encoded data removed]",
      "text/plain": [
       "<Figure size 504x504 with 1 Axes>"
      ]
     },
     "metadata": {
      "needs_background": "light"
     },
     "output_type": "display_data"
    },
    {
     "name": "stdout",
     "output_type": "stream",
     "text": [
      "\n",
      "\n",
      "\n"
     ]
    }
   ],
   "source": [
    "model_res = {}\n",
    "x_train_t, x_test_t, y_train_t, y_test_t = train_test_split(df_x[cols], df_y, test_size=0.2, random_state=1)\n",
    "for model in MLModels:\n",
    "    model_res[model.name] = advanced_evaluate_model(model.model,model.name,x_train_t,y_train_t,x_test_t,y_test_t,False)"
   ]
  },
  {
   "cell_type": "markdown",
   "metadata": {},
   "source": [
    "# Save models"
   ]
  },
  {
   "cell_type": "code",
   "execution_count": 9,
   "metadata": {},
   "outputs": [
    {
     "name": "stdout",
     "output_type": "stream",
     "text": [
      "Pickled classifier at lib/models/XGBoost.pkl\n",
      "Pickled classifier at lib/models/RF.pkl\n"
     ]
    }
   ],
   "source": [
    "for model in MLModels:\n",
    "    path = 'lib/models/' + model.name + '.pkl'\n",
    "    with open(path, 'wb') as f:\n",
    "        pickle.dump(model.model, f)\n",
    "        print(\"Pickled classifier at {}\".format(path))"
   ]
  },
  {
   "cell_type": "markdown",
   "metadata": {},
   "source": [
    "# Load models \n",
    "\n",
    "Check the performance"
   ]
  },
  {
   "cell_type": "code",
   "execution_count": 32,
   "metadata": {},
   "outputs": [],
   "source": [
    "model_final = dict()\n",
    "model_final['XGBoost'] = pickle.load(open('lib/models/XGBoost.pkl', 'rb'))\n",
    "model_final['RF'] = pickle.load(open('lib/models/RF.pkl', 'rb'))"
   ]
  },
  {
   "cell_type": "markdown",
   "metadata": {},
   "source": [
    "# Check on test data"
   ]
  },
  {
   "cell_type": "code",
   "execution_count": 27,
   "metadata": {},
   "outputs": [],
   "source": [
    "#load the data\n",
    "test_df = pd.read_csv(\"lib/data/test.csv\",sep=\",\")"
   ]
  },
  {
   "cell_type": "code",
   "execution_count": 30,
   "metadata": {},
   "outputs": [],
   "source": [
    "# Create a bunch of \"A-B\" and 'AmA' features\n",
    "test_df = add_derived_features(test_df)\n",
    "test_df = test_df[cols]"
   ]
  },
  {
   "cell_type": "markdown",
   "metadata": {},
   "source": [
    "## Predict"
   ]
  },
  {
   "cell_type": "code",
   "execution_count": 31,
   "metadata": {},
   "outputs": [],
   "source": [
    "# Output filename\n",
    "for model in model_final:\n",
    "    predictions = model_final[model].predict(test_df)\n",
    "    predictions_prob = model_final[model].predict_proba(test_df)\n",
    "    \n",
    "    # Create a file for the output\n",
    "    fileName = 'predictions/' + model + '_predictions.csv'\n",
    "    fResults= open(fileName,'w+')\n",
    "    \n",
    "    # Convert probabilities to DF\n",
    "    predictions_prob_df=pd.DataFrame(predictions_prob[:,0])\n",
    "    \n",
    "    predictions_prob_df.index=np.arange(1,len(predictions_prob_df)+1)\n",
    "    \n",
    "    predictions_prob_df.to_csv(fileName,index=True,header=['Choice'],index_label='id')\n",
    "    \n",
    "    fResults.close()"
   ]
  },
  {
   "cell_type": "code",
   "execution_count": null,
   "metadata": {},
   "outputs": [],
   "source": []
  }
 ],
 "metadata": {
  "kernelspec": {
   "display_name": "Python 3",
   "language": "python",
   "name": "python3"
  },
  "language_info": {
   "codemirror_mode": {
    "name": "ipython",
    "version": 3
   },
   "file_extension": ".py",
   "mimetype": "text/x-python",
   "name": "python",
   "nbconvert_exporter": "python",
   "pygments_lexer": "ipython3",
   "version": "3.6.6"
  },
  "toc": {
   "base_numbering": 1,
   "nav_menu": {},
   "number_sections": true,
   "sideBar": true,
   "skip_h1_title": false,
   "title_cell": "Table of Contents",
   "title_sidebar": "Contents",
   "toc_cell": false,
   "toc_position": {},
   "toc_section_display": true,
   "toc_window_display": true
  }
 },
 "nbformat": 4,
 "nbformat_minor": 2
}
